{
 "cells": [
  {
   "cell_type": "markdown",
   "id": "c272c14a",
   "metadata": {},
   "source": [
    "# Циклы. for"
   ]
  },
  {
   "cell_type": "markdown",
   "id": "9378b8d5",
   "metadata": {},
   "source": [
    "Если `while` выполняет цикл, пока условие выполнения истинно, `for` перебирает данные, пока они не закончатся. Сравните два варианта программы, которая печатает каждую букву слова на новой строке."
   ]
  },
  {
   "cell_type": "code",
   "execution_count": 9,
   "id": "163ba153",
   "metadata": {},
   "outputs": [
    {
     "name": "stdout",
     "output_type": "stream",
     "text": [
      "к\n",
      "а\n",
      "с\n",
      "к\n",
      "а\n",
      "д\n"
     ]
    }
   ],
   "source": [
    "word = 'каскад'\n",
    "i = 0\n",
    "\n",
    "while i < len(word):\n",
    "    print(word[i])\n",
    "    i += 1"
   ]
  },
  {
   "cell_type": "code",
   "execution_count": 10,
   "id": "4e31c302",
   "metadata": {},
   "outputs": [
    {
     "name": "stdout",
     "output_type": "stream",
     "text": [
      "к\n",
      "а\n",
      "с\n",
      "к\n",
      "а\n",
      "д\n"
     ]
    }
   ],
   "source": [
    "word = 'каскад'\n",
    "\n",
    "for l in word:\n",
    "    print (l)"
   ]
  },
  {
   "cell_type": "markdown",
   "id": "2fe333dd",
   "metadata": {},
   "source": [
    "Посмотрим, как этот код работает в [визуальном компиляторе](https://pythontutor.com/visualize.html#mode=edit)."
   ]
  },
  {
   "cell_type": "markdown",
   "id": "17d3ad12",
   "metadata": {},
   "source": [
    "Элемент, который цикл перебирает, на каждой *итерации* (то есть на каждом повторении) записывается в переменную, которую мы можем использовать внутри цикла.\n",
    "\n",
    "**Синтаксис.** За `for` следует переменная, в которую записывается то, что перебирает функция, затем `in` и то, что мы перебираем по элементам. Затем двоеточие и с новой строки с отступом - код цикла."
   ]
  },
  {
   "cell_type": "markdown",
   "id": "842d36a7",
   "metadata": {},
   "source": [
    "В переданном циклу списке 3 элемента, поэтому цикл выполнился 3 раза: пока элементы не закончились.\n",
    "\n",
    "Так же цикл сработает на строке. Элементы строки - символы, поэтому цикл будет перебирать их."
   ]
  },
  {
   "cell_type": "code",
   "execution_count": 2,
   "id": "fc4e74da",
   "metadata": {},
   "outputs": [
    {
     "name": "stdout",
     "output_type": "stream",
     "text": [
      "а\n",
      "р\n",
      "б\n",
      "у\n",
      "з\n"
     ]
    }
   ],
   "source": [
    "word = 'арбуз'\n",
    "\n",
    "for letter in word:\n",
    "    print(letter)"
   ]
  },
  {
   "cell_type": "markdown",
   "id": "8eb0cd1e",
   "metadata": {},
   "source": [
    "## Функция range()"
   ]
  },
  {
   "cell_type": "markdown",
   "id": "e75acc18",
   "metadata": {},
   "source": [
    "`range()` перебирает целые числа в заданном диапазоне. Два аргумента функции задают начало и конец такого перебора. Обратите внимание: **начало задается включительно, а конец - не включительно.**"
   ]
  },
  {
   "cell_type": "code",
   "execution_count": 3,
   "id": "e2f9aeee",
   "metadata": {},
   "outputs": [
    {
     "name": "stdout",
     "output_type": "stream",
     "text": [
      "1\n",
      "2\n",
      "3\n",
      "4\n"
     ]
    }
   ],
   "source": [
    "for i in range(1, 5):\n",
    "    print(i)"
   ]
  },
  {
   "cell_type": "markdown",
   "id": "06891c39",
   "metadata": {},
   "source": [
    "Начало перебора можно не указывать, тогда перебор начнется с 0."
   ]
  },
  {
   "cell_type": "code",
   "execution_count": 4,
   "id": "9cf2c757",
   "metadata": {},
   "outputs": [
    {
     "name": "stdout",
     "output_type": "stream",
     "text": [
      "0\n",
      "1\n",
      "2\n",
      "3\n",
      "4\n"
     ]
    }
   ],
   "source": [
    "for i in range(5):\n",
    "    print(i)"
   ]
  },
  {
   "cell_type": "markdown",
   "id": "09299b53",
   "metadata": {},
   "source": [
    "При необходимости можно задать третий аргумент: шаг перебора. Если третий аргумент не указан, устанавливается его значение по умолчанию, равное 1."
   ]
  },
  {
   "cell_type": "code",
   "execution_count": 5,
   "id": "c1829ac3",
   "metadata": {},
   "outputs": [
    {
     "name": "stdout",
     "output_type": "stream",
     "text": [
      "1\n",
      "3\n",
      "5\n",
      "7\n",
      "9\n"
     ]
    }
   ],
   "source": [
    "for i in range(1, 10, 2):\n",
    "    print(i)"
   ]
  },
  {
   "cell_type": "code",
   "execution_count": 6,
   "id": "bed16dde",
   "metadata": {},
   "outputs": [
    {
     "name": "stdout",
     "output_type": "stream",
     "text": [
      "5\n",
      "4\n",
      "3\n",
      "2\n"
     ]
    }
   ],
   "source": [
    "for i in range(5, 1, -1):\n",
    "    print(i)"
   ]
  },
  {
   "cell_type": "markdown",
   "id": "9e88d43c",
   "metadata": {},
   "source": [
    "`range()`, конечно, можно использовать и для перечисления индексов."
   ]
  },
  {
   "cell_type": "code",
   "execution_count": 7,
   "id": "8837f03c",
   "metadata": {},
   "outputs": [
    {
     "name": "stdout",
     "output_type": "stream",
     "text": [
      "п\n",
      "о\n",
      "р\n",
      "о\n",
      "г\n"
     ]
    }
   ],
   "source": [
    "word = 'порог'\n",
    "\n",
    "for i in range(len(word)):\n",
    "    print(word[i])"
   ]
  },
  {
   "cell_type": "markdown",
   "id": "cf8abc51",
   "metadata": {},
   "source": [
    "`for`, особенно в сочетании с `range()` для многих задач кажется более приятным, поскольку позволяет получить тот же результат меньшим количеством кода. Но и `while` порой оказывается незаменим."
   ]
  },
  {
   "cell_type": "markdown",
   "id": "af4f8d9c",
   "metadata": {},
   "source": [
    "# Списки"
   ]
  },
  {
   "cell_type": "markdown",
   "id": "4f8fe0b1",
   "metadata": {},
   "source": [
    "Один из типов данных, которые мы еще не обсуждали - списки. Список - это, собственно, список чего-то. Чего - неважно, важно, что записывать его нужно в квадратных скобках. Еще списки по-другому называют массивами."
   ]
  },
  {
   "cell_type": "code",
   "execution_count": 12,
   "id": "5a887af8",
   "metadata": {},
   "outputs": [
    {
     "name": "stdout",
     "output_type": "stream",
     "text": [
      "[1, 'hello', True, 15.22, 16, 'world']\n"
     ]
    }
   ],
   "source": [
    "my_list = [1, 'hello', True, 15.22, 16, 'world']\n",
    "print(my_list)"
   ]
  },
  {
   "cell_type": "markdown",
   "id": "ad9219c1",
   "metadata": {},
   "source": [
    "Важная особенность списка в том, что элементы в нем лежат не как попало, а строго по порядку. Это позволяет нам обращаться к любому элементу списка по его индексу: так же, как мы делали, со строками."
   ]
  },
  {
   "cell_type": "code",
   "execution_count": 14,
   "id": "4f275bb2",
   "metadata": {},
   "outputs": [
    {
     "data": {
      "text/plain": [
       "'hello'"
      ]
     },
     "execution_count": 14,
     "metadata": {},
     "output_type": "execute_result"
    }
   ],
   "source": [
    "my_list[1]"
   ]
  },
  {
   "cell_type": "code",
   "execution_count": 15,
   "id": "e3d62419",
   "metadata": {},
   "outputs": [
    {
     "data": {
      "text/plain": [
       "'world'"
      ]
     },
     "execution_count": 15,
     "metadata": {},
     "output_type": "execute_result"
    }
   ],
   "source": [
    "my_list[-1]"
   ]
  },
  {
   "cell_type": "markdown",
   "id": "7da038ed",
   "metadata": {},
   "source": [
    "Тип данных списка - **list()**. Мы с вами умеем переводить одни типы данных в другие. Давайте посмотрим, как это работает со списками."
   ]
  },
  {
   "cell_type": "code",
   "execution_count": 16,
   "id": "733d7c81",
   "metadata": {},
   "outputs": [
    {
     "data": {
      "text/plain": [
       "['h', 'e', 'l', 'l', 'o', ' ', 'w', 'o', 'r', 'l', 'd']"
      ]
     },
     "execution_count": 16,
     "metadata": {},
     "output_type": "execute_result"
    }
   ],
   "source": [
    "line = 'hello world'\n",
    "list(line)"
   ]
  },
  {
   "cell_type": "code",
   "execution_count": 17,
   "id": "913768d0",
   "metadata": {},
   "outputs": [
    {
     "ename": "TypeError",
     "evalue": "'int' object is not iterable",
     "output_type": "error",
     "traceback": [
      "\u001b[0;31m---------------------------------------------------------------------------\u001b[0m",
      "\u001b[0;31mTypeError\u001b[0m                                 Traceback (most recent call last)",
      "Cell \u001b[0;32mIn[17], line 2\u001b[0m\n\u001b[1;32m      1\u001b[0m n \u001b[38;5;241m=\u001b[39m \u001b[38;5;241m827\u001b[39m\n\u001b[0;32m----> 2\u001b[0m \u001b[38;5;28;43mlist\u001b[39;49m\u001b[43m(\u001b[49m\u001b[43mn\u001b[49m\u001b[43m)\u001b[49m\n",
      "\u001b[0;31mTypeError\u001b[0m: 'int' object is not iterable"
     ]
    }
   ],
   "source": [
    "n = 827\n",
    "list(n)"
   ]
  },
  {
   "cell_type": "markdown",
   "id": "cb9ef970",
   "metadata": {},
   "source": [
    "Строка поделилась на строки по одному символу, а вот с числом просто не сработало.\n",
    "\n",
    "А если переводить в обратную сторону?"
   ]
  },
  {
   "cell_type": "code",
   "execution_count": 18,
   "id": "1d97842e",
   "metadata": {},
   "outputs": [
    {
     "data": {
      "text/plain": [
       "\"['h', 'e', 'l', 'l', 'o', ' ', 'w', 'o', 'r', 'l', 'd']\""
      ]
     },
     "execution_count": 18,
     "metadata": {},
     "output_type": "execute_result"
    }
   ],
   "source": [
    "str(['h', 'e', 'l', 'l', 'o', ' ', 'w', 'o', 'r', 'l', 'd'])"
   ]
  },
  {
   "cell_type": "markdown",
   "id": "0aa68ffe",
   "metadata": {},
   "source": [
    "Со списками удобно работать при помощи циклов."
   ]
  },
  {
   "cell_type": "code",
   "execution_count": 23,
   "id": "e78b2bb5",
   "metadata": {},
   "outputs": [
    {
     "name": "stdout",
     "output_type": "stream",
     "text": [
      "2\n",
      "hellohello\n",
      "2\n",
      "30.44\n",
      "32\n",
      "worldworld\n"
     ]
    }
   ],
   "source": [
    "my_list = [1, 'hello', True, 15.22, 16, 'world']\n",
    "\n",
    "for item in my_list:\n",
    "    print(item * 2)"
   ]
  },
  {
   "cell_type": "markdown",
   "id": "587c696f",
   "metadata": {},
   "source": [
    "## Задание 1\n",
    "\n",
    "Напечатайте каждое третье число от 7 до 115 включительно. Используйте for и range()."
   ]
  },
  {
   "cell_type": "markdown",
   "id": "13112650",
   "metadata": {},
   "source": [
    "## Задание 2\n",
    "\n",
    "Напечатайте все четные числа до 100 включительно."
   ]
  },
  {
   "cell_type": "markdown",
   "id": "f7399172",
   "metadata": {},
   "source": [
    "## Задание 3\n",
    "\n",
    "Напечатайте все нечетные числа до 100 включительно."
   ]
  },
  {
   "cell_type": "markdown",
   "id": "53aecfe3",
   "metadata": {},
   "source": [
    "## Задание 4\n",
    "\n",
    "Напечатайте каждое пятое число от 127 до -18 включительно в порядке убывания. Используйте for и range()."
   ]
  },
  {
   "cell_type": "markdown",
   "id": "de9a57df",
   "metadata": {},
   "source": [
    "## Задание 5\n",
    "\n",
    "Напечатайте все отрицательные четные числа до -100 включительно."
   ]
  },
  {
   "cell_type": "markdown",
   "id": "4411b45d",
   "metadata": {},
   "source": [
    "## Задание 6\n",
    "\n",
    "Ниже дан список цен, по которым магазин закупает продукты. Цена на прилавке для каждого продукта будет выше на 50%. Ваша программа должна для каждой цены в списке напечатать цену на прилавке.\n",
    "\n",
    "```python\n",
    "[150.0, 23.0, 642.0, 247.0, 34.0, 204.0, 652.0]\n",
    "```\n",
    "\n",
    "Программа должна напечатать:\n",
    "\n",
    "```python\n",
    "225.0\n",
    "34.5\n",
    "963.0\n",
    "370.5\n",
    "51.0\n",
    "306.0\n",
    "978.0\n",
    "```"
   ]
  },
  {
   "cell_type": "markdown",
   "id": "d3f595d1",
   "metadata": {},
   "source": [
    "## Задание 7\n",
    "\n",
    "Ниже дан список слов. Программа должна напечатать каждое слово столько раз, сколько в нем букв. Можно без пробелов.\n",
    "\n",
    "```python\n",
    "['ночь', 'улица', 'фонарь', 'аптека']\n",
    "```"
   ]
  }
 ],
 "metadata": {
  "kernelspec": {
   "display_name": "Python 3 (ipykernel)",
   "language": "python",
   "name": "python3"
  },
  "language_info": {
   "codemirror_mode": {
    "name": "ipython",
    "version": 3
   },
   "file_extension": ".py",
   "mimetype": "text/x-python",
   "name": "python",
   "nbconvert_exporter": "python",
   "pygments_lexer": "ipython3",
   "version": "3.8.10"
  }
 },
 "nbformat": 4,
 "nbformat_minor": 5
}
