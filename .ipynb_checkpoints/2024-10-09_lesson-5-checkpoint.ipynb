{
 "cells": [
  {
   "cell_type": "markdown",
   "id": "dd60e4c6-f7a5-400f-a178-ef88a64a775d",
   "metadata": {
    "tags": []
   },
   "source": [
    "# Урок 5 (09.10) Повторение"
   ]
  },
  {
   "cell_type": "code",
   "execution_count": null,
   "id": "39fafc58-4918-4013-bad5-d921356e63fe",
   "metadata": {},
   "outputs": [],
   "source": []
  }
 ],
 "metadata": {
  "kernelspec": {
   "display_name": "Python 3 (ipykernel)",
   "language": "python",
   "name": "python3"
  },
  "language_info": {
   "codemirror_mode": {
    "name": "ipython",
    "version": 3
   },
   "file_extension": ".py",
   "mimetype": "text/x-python",
   "name": "python",
   "nbconvert_exporter": "python",
   "pygments_lexer": "ipython3",
   "version": "3.8.10"
  }
 },
 "nbformat": 4,
 "nbformat_minor": 5
}
