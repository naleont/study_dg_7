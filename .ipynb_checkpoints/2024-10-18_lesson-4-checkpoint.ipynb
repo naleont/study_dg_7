{
 "cells": [
  {
   "cell_type": "markdown",
   "id": "02a6f40c",
   "metadata": {},
   "source": [
    "## Цикл **for**"
   ]
  },
  {
   "cell_type": "markdown",
   "id": "ac5f243a",
   "metadata": {},
   "source": [
    "Если `while` выполняет цикл, пока условие выполнения истинно, `for` перебирает данные, пока они не закончатся."
   ]
  },
  {
   "cell_type": "code",
   "execution_count": 9,
   "id": "2feacc04",
   "metadata": {},
   "outputs": [
    {
     "name": "stdout",
     "output_type": "stream",
     "text": [
      "яблоко\n",
      "банан\n",
      "слива\n"
     ]
    }
   ],
   "source": [
    "fruit = ['яблоко', 'банан', 'слива']\n",
    "\n",
    "for item in fruit:\n",
    "    print (item)"
   ]
  },
  {
   "cell_type": "markdown",
   "id": "6e9435d1",
   "metadata": {},
   "source": [
    "Посмотрим, как этот код работает в [визуальном компиляторе](https://pythontutor.com/visualize.html#mode=edit)."
   ]
  },
  {
   "cell_type": "markdown",
   "id": "c9fe64b6",
   "metadata": {},
   "source": [
    "Элемент, который цикл перебирает, на каждой *итерации* (то есть на каждом повторении) записывается в переменную, которую мы можем использовать внутри цикла.\n",
    "\n",
    "**Синтаксис.** За `for` следует переменная, в которую записывается то, что перебирает функция, затем `in` и то, что мы перебираем по элементам. Затем двоеточие и с новой строки с отступом - код цикла."
   ]
  },
  {
   "cell_type": "markdown",
   "id": "dc73225e",
   "metadata": {},
   "source": [
    "В переданном циклу списке 3 элемента, поэтому цикл выполнился 3 раза: пока элементы не закончились.\n",
    "\n",
    "Так же цикл сработает на строке. Элементы строки - символы, поэтому цикл будет перебирать их."
   ]
  },
  {
   "cell_type": "code",
   "execution_count": 10,
   "id": "a8d5f41b",
   "metadata": {},
   "outputs": [
    {
     "name": "stdout",
     "output_type": "stream",
     "text": [
      "а\n",
      "р\n",
      "б\n",
      "у\n",
      "з\n"
     ]
    }
   ],
   "source": [
    "word = 'арбуз'\n",
    "\n",
    "for letter in word:\n",
    "    print(letter)"
   ]
  },
  {
   "cell_type": "markdown",
   "id": "362ed0c5",
   "metadata": {},
   "source": [
    "## Функция range()"
   ]
  },
  {
   "cell_type": "markdown",
   "id": "83f6c8bf",
   "metadata": {},
   "source": [
    "`range()` перебирает целые числа в заданном диапазоне. Два аргумента функции задают начало и конец такого перебора. Обратите внимание: **начало задается включительно, а конец - не включительно.**"
   ]
  },
  {
   "cell_type": "code",
   "execution_count": 11,
   "id": "bc578905",
   "metadata": {},
   "outputs": [
    {
     "name": "stdout",
     "output_type": "stream",
     "text": [
      "1\n",
      "2\n",
      "3\n",
      "4\n"
     ]
    }
   ],
   "source": [
    "for i in range(1, 5):\n",
    "    print(i)"
   ]
  },
  {
   "cell_type": "markdown",
   "id": "4d385142",
   "metadata": {},
   "source": [
    "Начало перебора можно не указывать, тогда перебор начнется с 0."
   ]
  },
  {
   "cell_type": "code",
   "execution_count": 12,
   "id": "710770b8",
   "metadata": {},
   "outputs": [
    {
     "name": "stdout",
     "output_type": "stream",
     "text": [
      "0\n",
      "1\n",
      "2\n",
      "3\n",
      "4\n"
     ]
    }
   ],
   "source": [
    "for i in range(5):\n",
    "    print(i)"
   ]
  },
  {
   "cell_type": "markdown",
   "id": "f7af5711",
   "metadata": {},
   "source": [
    "При необходимости можно задать третий аргумент: шаг перебора. Если третий аргумент не указан, устанавливается его значение по умолчанию, равное 1."
   ]
  },
  {
   "cell_type": "code",
   "execution_count": 13,
   "id": "af05db1c",
   "metadata": {},
   "outputs": [
    {
     "name": "stdout",
     "output_type": "stream",
     "text": [
      "1\n",
      "3\n",
      "5\n",
      "7\n",
      "9\n"
     ]
    }
   ],
   "source": [
    "for i in range(1, 10, 2):\n",
    "    print(i)"
   ]
  },
  {
   "cell_type": "code",
   "execution_count": 14,
   "id": "9e22c40e",
   "metadata": {
    "scrolled": true
   },
   "outputs": [
    {
     "name": "stdout",
     "output_type": "stream",
     "text": [
      "5\n",
      "4\n",
      "3\n",
      "2\n"
     ]
    }
   ],
   "source": [
    "for i in range(5, 1, -1):\n",
    "    print(i)"
   ]
  },
  {
   "cell_type": "markdown",
   "id": "fb979e0b",
   "metadata": {},
   "source": [
    "`range()`, конечно, можно использовать и для перечисления индексов."
   ]
  },
  {
   "cell_type": "code",
   "execution_count": 15,
   "id": "8c3dbf6d",
   "metadata": {},
   "outputs": [
    {
     "name": "stdout",
     "output_type": "stream",
     "text": [
      "п\n",
      "о\n",
      "р\n",
      "о\n",
      "г\n"
     ]
    }
   ],
   "source": [
    "word = 'порог'\n",
    "\n",
    "for i in range(len(word)):\n",
    "    print(word[i])"
   ]
  },
  {
   "cell_type": "markdown",
   "id": "0282b533",
   "metadata": {},
   "source": [
    "`for`, особенно в сочетании с `range()` для многих задач кажется более приятным, поскольку позволяет получить тот же результат меньшим количеством кода. Но и `while` порой оказывается незаменим."
   ]
  },
  {
   "cell_type": "markdown",
   "id": "dcf0d716",
   "metadata": {},
   "source": [
    "## Задание Олаф-4\n",
    "\n",
    "Ниже дан список городов. Напишите программу, которая выведет каждый город на новой строке.\n",
    "\n",
    "```python\n",
    "a = ['Калининград', 'Вологда', 'Киров', 'Орел', 'Самара', 'Тольятти', 'Новосибирск', 'Таганрог', 'Чита', 'Уфа', 'Челябинск', 'Омск', 'Томск', 'Хабаровск', 'Петропавловск-Камчатский']\n",
    "```"
   ]
  },
  {
   "cell_type": "markdown",
   "id": "22e21c58",
   "metadata": {},
   "source": [
    "## Задание Олаф-5\n",
    "\n",
    "Нужно написать программу, которая проверяет, является ли слово палиндромом. Палиндром - это слово (или словосочетание, а может и предложение), которое одинаково читается слева направо и справа налево.\n",
    "\n",
    "<details>\n",
    "    <summary>\n",
    "        Помогите\n",
    "    </summary>\n",
    "    \n",
    "    Нужно по порядку сравнить символы строки: первый с последним, затем второй с предпоследним и так далее.\n",
    "    \n",
    "    Можно сделать код более эффективным, если сравнивать символы слова только до середины, ведь к этому моменту мы уже полностью сравнили все символы до середины со всеми символами после середины, делать это второй раз можно, но зачем. Продумайте, как определять середину, чтобы программа работала корректно как для слов из четного количества букв, так и из нечетного.\n",
    "</details>"
   ]
  },
  {
   "cell_type": "markdown",
   "id": "64eadb2e",
   "metadata": {},
   "source": [
    "## Задание Олаф-6\n",
    "\n",
    "Программа спрашивает у пользователя слово и выводит на экран все чётные буквы этого слова, но только если это не буква \"а\" или буква \"к\". Например, для слова \"угадайка\" выведутся буквы \"г\", \"д\", \"й\", а последняя \"а\" не выведется.\n",
    "\n",
    "<details>\n",
    "    <summary>\n",
    "        Подсказка\n",
    "    </summary>\n",
    "    \n",
    "    Вспомните, что у функции range() есть три параметра: начало перебора, окончание перебора и шаг.\n",
    "    \n",
    "    Какой будет индекс у первой четной буквы слова?\n",
    "</details>"
   ]
  },
  {
   "cell_type": "markdown",
   "id": "14a97daa",
   "metadata": {},
   "source": [
    "## Задание Олаф-7\n",
    "\n",
    "Программа спрашивает у пользователя слово и выводит на экран нечётные буквы этого слова, но только если это буква \"о\", буква \"п\" или буква \"е\". Например, для слова \"победа\" это будет только буква \"п\"."
   ]
  },
  {
   "cell_type": "markdown",
   "id": "366ceb66",
   "metadata": {},
   "source": [
    "## Задание Олаф-8\n",
    "\n",
    "Программа спрашивает у пользователя число и выводит на экран таблицу умножения на это число (т. е., например, если введено число 5, то выводятся строчки вида \"1 * 5 = 5\"; \"2 * 5 = 10\", и так далее -- всего десять строчек)."
   ]
  },
  {
   "cell_type": "markdown",
   "id": "f25980ee",
   "metadata": {},
   "source": [
    "# Уровень Олаф Плюс"
   ]
  },
  {
   "cell_type": "markdown",
   "id": "ded42668",
   "metadata": {},
   "source": [
    "## Срезы"
   ]
  },
  {
   "cell_type": "markdown",
   "id": "86240f03",
   "metadata": {},
   "source": [
    "Срезы - способ получить элементы без использования цикла. Выглядит как гибрид индексов и range().\n",
    "\n",
    "Пишутся в квадратных скобках, первое значение - начало перебора, второе - конец перебора, третье - шаг. Между значениями ставятся двоеточия. Все значения можно пропустить, тогда установятся значения по умолчанию: начало - 0, конец - длина списка или строки, шаг - 1."
   ]
  },
  {
   "cell_type": "code",
   "execution_count": 16,
   "id": "b89aa6de",
   "metadata": {},
   "outputs": [
    {
     "data": {
      "text/plain": [
       "'мрак'"
      ]
     },
     "execution_count": 16,
     "metadata": {},
     "output_type": "execute_result"
    }
   ],
   "source": [
    "word = 'мракоборец'\n",
    "\n",
    "word[0:4]"
   ]
  },
  {
   "cell_type": "code",
   "execution_count": 17,
   "id": "3eb2c6a7",
   "metadata": {},
   "outputs": [
    {
     "data": {
      "text/plain": [
       "'ркбрц'"
      ]
     },
     "execution_count": 17,
     "metadata": {},
     "output_type": "execute_result"
    }
   ],
   "source": [
    "word[1:10:2]"
   ]
  },
  {
   "cell_type": "code",
   "execution_count": 18,
   "id": "aa1f17ce",
   "metadata": {},
   "outputs": [
    {
     "data": {
      "text/plain": [
       "'мрак'"
      ]
     },
     "execution_count": 18,
     "metadata": {},
     "output_type": "execute_result"
    }
   ],
   "source": [
    "word[:4]"
   ]
  },
  {
   "cell_type": "code",
   "execution_count": 19,
   "id": "a4435649",
   "metadata": {},
   "outputs": [
    {
     "data": {
      "text/plain": [
       "'борец'"
      ]
     },
     "execution_count": 19,
     "metadata": {},
     "output_type": "execute_result"
    }
   ],
   "source": [
    "word[5:]"
   ]
  },
  {
   "cell_type": "code",
   "execution_count": 20,
   "id": "b2450404",
   "metadata": {},
   "outputs": [
    {
     "data": {
      "text/plain": [
       "'ркбрц'"
      ]
     },
     "execution_count": 20,
     "metadata": {},
     "output_type": "execute_result"
    }
   ],
   "source": [
    "word[1::2]"
   ]
  },
  {
   "cell_type": "code",
   "execution_count": 21,
   "id": "87818efa",
   "metadata": {},
   "outputs": [
    {
     "data": {
      "text/plain": [
       "'церобокарм'"
      ]
     },
     "execution_count": 21,
     "metadata": {},
     "output_type": "execute_result"
    }
   ],
   "source": [
    "word[::-1]"
   ]
  },
  {
   "cell_type": "markdown",
   "id": "05569273",
   "metadata": {},
   "source": [
    "## Задания Олаф Плюс\n",
    "\n",
    "Вам нужно написать программу, которая спрашивает у пользователя слово и, в зависимости от задания, печатает тот или иной набор строчек. Вместо текстового описания лучше для каждого задания приведем примеры того, что должно появиться на экране в результате работы программы, если пользователь введёт слово \"abracadabra\". (Соответственно, если пользователь введёт другое слово, должна получиться другая, но аналогичная картинка.)"
   ]
  },
  {
   "cell_type": "markdown",
   "id": "edfb115f",
   "metadata": {},
   "source": [
    "## Задание Олаф Плюс-1\n",
    "\n",
    "abracadabra\\\n",
    "abracadabr\\\n",
    "abracadab\\\n",
    "abracada\\\n",
    "abracad\\\n",
    "abraca\\\n",
    "abrac\\\n",
    "abra\\\n",
    "abr\\\n",
    "ab\\\n",
    "a"
   ]
  },
  {
   "cell_type": "markdown",
   "id": "5856e355",
   "metadata": {},
   "source": [
    "## Задание Олаф Плюс-2\n",
    "\n",
    "a\\\n",
    "ab\\\n",
    "abr\\\n",
    "abra\\\n",
    "abrac\\\n",
    "abraca\\\n",
    "abracad\\\n",
    "abracada\\\n",
    "abracadab\\\n",
    "abracadabr\\\n",
    "abracadabra"
   ]
  },
  {
   "cell_type": "markdown",
   "id": "b9c2e746",
   "metadata": {},
   "source": [
    "## Задание Олаф Плюс-3\n",
    "\n",
    "abracadabra\\\n",
    "bracadabraa\\\n",
    "racadabraab\\\n",
    "acadabraabr\\\n",
    "cadabraabra\\\n",
    "adabraabrac\\\n",
    "dabraabraca\\\n",
    "abraabracad\\\n",
    "braabracada\\\n",
    "raabracadab\\\n",
    "aabracadabr"
   ]
  },
  {
   "cell_type": "markdown",
   "id": "09fcea4e",
   "metadata": {},
   "source": [
    "## Задание Олаф Плюс-4\n",
    "\n",
    "abracadabra\\\n",
    "aabracadabr\\\n",
    "raabracadab\\\n",
    "braabracada\\\n",
    "abraabracad\\\n",
    "dabraabraca\\\n",
    "adabraabrac\\\n",
    "cadabraabra\\\n",
    "acadabraabr\\\n",
    "racadabraab\\\n",
    "bracadabraa"
   ]
  },
  {
   "cell_type": "markdown",
   "id": "54fb41ba",
   "metadata": {},
   "source": [
    "## Задание Олаф Плюс-5\n",
    "\n",
    "a\\\n",
    "ra\\\n",
    "bra\\\n",
    "abra\\\n",
    "dabra\\\n",
    "adabra\\\n",
    "cadabra\\\n",
    "acadabra\\\n",
    "racadabra\\\n",
    "bracadabra\\\n",
    "abracadabra"
   ]
  },
  {
   "cell_type": "markdown",
   "id": "475f96ef",
   "metadata": {},
   "source": [
    "## Задание Олаф Плюс-6\n",
    "\n",
    "abracadabra\\\n",
    "bracadabra\\\n",
    "racadabra\\\n",
    "acadabra\\\n",
    "cadabra\\\n",
    "adabra\\\n",
    "dabra\\\n",
    "abra\\\n",
    "bra\\\n",
    "ra\\\n",
    "a"
   ]
  },
  {
   "cell_type": "markdown",
   "id": "15ffae44",
   "metadata": {},
   "source": [
    "## Задание Олаф Плюс-7\n",
    "\n",
    "abracadabra\\\n",
    "bracadabr\\\n",
    "racadab\\\n",
    "acada\\\n",
    "cad\\\n",
    "a"
   ]
  },
  {
   "cell_type": "markdown",
   "id": "ac9fc71a",
   "metadata": {},
   "source": [
    "# Уровень Свэн"
   ]
  },
  {
   "cell_type": "markdown",
   "id": "685a0573",
   "metadata": {},
   "source": [
    "## Еще про списки"
   ]
  },
  {
   "cell_type": "markdown",
   "id": "2246dc12",
   "metadata": {},
   "source": [
    "Есть несколько основных методов для работы со списками. Метод отличается от функции тем, что применим только к определенному типу данных. Например функция print() работает с любым типом данных. А метод .append() - только со списками. А еще метод пишется после данных, к которым он применяется, через точку."
   ]
  },
  {
   "cell_type": "markdown",
   "id": "f25c978f",
   "metadata": {},
   "source": [
    "Первый метод для работы со списками - .append(). Он добавляет что-то одно в конец списка. В аргументы передается то что-то, что будем добавлять."
   ]
  },
  {
   "cell_type": "code",
   "execution_count": 6,
   "id": "d1ffd412",
   "metadata": {},
   "outputs": [
    {
     "name": "stdout",
     "output_type": "stream",
     "text": [
      "[3, 6, 2, 7, 8, 17]\n"
     ]
    }
   ],
   "source": [
    "my_list = [3, 6, 2, 7, 8]\n",
    "\n",
    "my_list.append(17)\n",
    "\n",
    "print(my_list)"
   ]
  },
  {
   "cell_type": "markdown",
   "id": "3c4e8ea3",
   "metadata": {},
   "source": [
    "Второй метод - .extend(). Он похож на append, только в конец списка он добавляет любое количество чего-то, что лежит в другом списке."
   ]
  },
  {
   "cell_type": "code",
   "execution_count": 7,
   "id": "d3455c80",
   "metadata": {},
   "outputs": [
    {
     "name": "stdout",
     "output_type": "stream",
     "text": [
      "[3, 6, 2, 7, 8, 'борщ', 'окрошка', 'рассольник']\n"
     ]
    }
   ],
   "source": [
    "first_list = [3, 6, 2, 7, 8]\n",
    "second_list = ['борщ', 'окрошка', 'рассольник']\n",
    "\n",
    "first_list.extend(second_list)\n",
    "\n",
    "print(first_list)"
   ]
  },
  {
   "cell_type": "markdown",
   "id": "dbca4b1e",
   "metadata": {},
   "source": [
    "Мы дошли до того места, где сложно выбрать самые полезные функции и методы, которые непременно нужно рассказать. Если вы пишете программу и понимаете, что у вас есть потребность в каком-то определенном функционале, воспользуйтесь гуглом."
   ]
  },
  {
   "cell_type": "markdown",
   "id": "4485693b",
   "metadata": {},
   "source": [
    "В этом месте нужна беседа о прекрасном и о документациях. Если вы дошли до этого места, скажите о своей готовности к беседе."
   ]
  },
  {
   "cell_type": "markdown",
   "id": "c7eb77f2",
   "metadata": {},
   "source": [
    "## Словари"
   ]
  },
  {
   "cell_type": "markdown",
   "id": "bb7f2ad7",
   "metadata": {},
   "source": [
    "Словарь - это тип данных, который позволяет хранить не просто много данных в определенном порядке, а данные с подписями. Словарь выглядит как набор пар \"ключ - значение\" и пишется в фигурных скобках. Ключи от значений отделяются двоеточием, между разными парами - запятые. Ключи всегда уникальны, значения могут повторяться. В качестве и ключей, и значений может использоваться любой тип данных, но на практике в качестве ключей удобнее всего использовать строки. Тип данных обозначается dict()."
   ]
  },
  {
   "cell_type": "code",
   "execution_count": 14,
   "id": "b734b3c0",
   "metadata": {},
   "outputs": [],
   "source": [
    "mendeleev_table = {\"кислород\": \"O\", \"гелий\": \"He\", \"дубний\": \"Db\", \"золото\": \"Au\"}  # ключ: значение\n",
    "gradebook = {\"Английский\": 5, \"Физическая культура\": 4, \"Алгебра\": \"отлично\", \"Геометрия\": \"неуд\"}\n",
    "empty_dict = {}  # пустой словарь\n",
    "empty_dict2 = dict()  # функция dict() используется для конструирования словарей, аналог list для списков"
   ]
  },
  {
   "cell_type": "markdown",
   "id": "8639893b",
   "metadata": {},
   "source": [
    "Порядок значений в словаре неважен, потому что обратиться к любому значению в словаре мы можем по его ключу, написав его после переменной, в которой лежит словарь, в квадратных скобках."
   ]
  },
  {
   "cell_type": "code",
   "execution_count": 15,
   "id": "729e0f96",
   "metadata": {},
   "outputs": [
    {
     "name": "stdout",
     "output_type": "stream",
     "text": [
      "Au\n"
     ]
    }
   ],
   "source": [
    "print(mendeleev_table[\"золото\"])"
   ]
  },
  {
   "cell_type": "markdown",
   "id": "244fb4c3",
   "metadata": {},
   "source": [
    "Очень похожей записью мы можем добавить в словарь новую пару ключ-значение."
   ]
  },
  {
   "cell_type": "code",
   "execution_count": 16,
   "id": "21064bc5",
   "metadata": {},
   "outputs": [
    {
     "name": "stdout",
     "output_type": "stream",
     "text": [
      "{'кислород': 'O', 'гелий': 'He', 'дубний': 'Db', 'золото': 'Au', 'висмут': 'Bi'}\n"
     ]
    }
   ],
   "source": [
    "mendeleev_table[\"висмут\"] = \"Bi\"\n",
    "print(mendeleev_table)"
   ]
  },
  {
   "cell_type": "markdown",
   "id": "32ec5d5e",
   "metadata": {},
   "source": [
    "Добавить к словарю пары ключ—значение из другого словаря можно с помощью метода `.update()`:"
   ]
  },
  {
   "cell_type": "code",
   "execution_count": 17,
   "id": "79ec2642",
   "metadata": {},
   "outputs": [
    {
     "name": "stdout",
     "output_type": "stream",
     "text": [
      "{'кислород': 'O', 'гелий': 'He', 'дубний': 'Db', 'золото': 'Au', 'висмут': 'Bi', 'скандий': 'Sc', 'иттрий': 'Y', 'лантан': 'La'}\n"
     ]
    }
   ],
   "source": [
    "rare_earth_metals = {\"скандий\": \"Sc\", \"иттрий\": \"Y\", \"лантан\": \"La\"}\n",
    "mendeleev_table.update(rare_earth_metals)\n",
    "print(mendeleev_table)"
   ]
  },
  {
   "cell_type": "markdown",
   "id": "797c65e7",
   "metadata": {},
   "source": [
    "Если в добавляемом словаре уже есть пара с тем же ключом, то значение будет изменено на новое. Например:"
   ]
  },
  {
   "cell_type": "code",
   "execution_count": 18,
   "id": "72226504",
   "metadata": {},
   "outputs": [
    {
     "name": "stdout",
     "output_type": "stream",
     "text": [
      "{0: 'ноль', 1: 'единица', 2: 'двойка'}\n"
     ]
    }
   ],
   "source": [
    "d1 = {0: \"ноль\", 1: \"один\"}\n",
    "d2 = {1: \"единица\", 2: \"двойка\"}\n",
    "d1.update(d2)\n",
    "print(d1)"
   ]
  },
  {
   "cell_type": "markdown",
   "id": "352c353a",
   "metadata": {},
   "source": [
    "При переборе словаря с помощью цикла for будут возвращаться его ключи."
   ]
  },
  {
   "cell_type": "code",
   "execution_count": 20,
   "id": "fc38b73b",
   "metadata": {},
   "outputs": [
    {
     "name": "stdout",
     "output_type": "stream",
     "text": [
      "кислород\n",
      "гелий\n",
      "дубний\n",
      "золото\n",
      "висмут\n",
      "скандий\n",
      "иттрий\n",
      "лантан\n"
     ]
    }
   ],
   "source": [
    "for ru_name in mendeleev_table:\n",
    "    print(ru_name)"
   ]
  },
  {
   "cell_type": "markdown",
   "id": "5f593ac7",
   "metadata": {},
   "source": [
    "Если вам необходимо получить список, состоящий из ключей словаря, то используйте метод `.keys()`."
   ]
  },
  {
   "cell_type": "code",
   "execution_count": 21,
   "id": "114ef42a",
   "metadata": {},
   "outputs": [
    {
     "name": "stdout",
     "output_type": "stream",
     "text": [
      "['кислород', 'гелий', 'дубний', 'золото', 'висмут', 'скандий', 'иттрий', 'лантан']\n"
     ]
    }
   ],
   "source": [
    "keys = list(mendeleev_table.keys())\n",
    "print(keys)"
   ]
  },
  {
   "cell_type": "markdown",
   "id": "e34a8944",
   "metadata": {},
   "source": [
    "Для перебора значений словаря используется метод `.values()`, который по своему поведению аналогичен `.keys()`:"
   ]
  },
  {
   "cell_type": "code",
   "execution_count": 23,
   "id": "bdcbb46e",
   "metadata": {},
   "outputs": [
    {
     "name": "stdout",
     "output_type": "stream",
     "text": [
      "O\n",
      "He\n",
      "Db\n",
      "Au\n",
      "Bi\n",
      "Sc\n",
      "Y\n",
      "La\n"
     ]
    }
   ],
   "source": [
    "for symbol in mendeleev_table.values():\n",
    "    print(symbol)"
   ]
  },
  {
   "cell_type": "markdown",
   "id": "089f91f7",
   "metadata": {},
   "source": [
    "Выше уже было показано, как можно перебрать все ключи и значения в одном цикле. Однако то же самое можно сделать более лаконичным образом с помощью метода .items():\n",
    "\n",
    "```python\n",
    "for key, value in dictionary.items():\n",
    "    print(key, value)\n",
    "```"
   ]
  },
  {
   "cell_type": "code",
   "execution_count": 25,
   "id": "610139f5",
   "metadata": {},
   "outputs": [
    {
     "name": "stdout",
     "output_type": "stream",
     "text": [
      "O — кислород\n",
      "He — гелий\n",
      "Db — дубний\n",
      "Au — золото\n",
      "Bi — висмут\n",
      "Sc — скандий\n",
      "Y — иттрий\n",
      "La — лантан\n"
     ]
    }
   ],
   "source": [
    "for ru_name, symbol in mendeleev_table.items():\n",
    "    print(symbol, \"—\", ru_name)"
   ]
  },
  {
   "cell_type": "markdown",
   "id": "6fae0373",
   "metadata": {},
   "source": [
    "Словарь является неупорядоченной структурой данных, и поэтому порядок, в котором будут выдаваться ключи или значения словаря, может изменяться от запуска к запуску программы, при использовании другой версии Python или при изменении погоды на Марсе. **Никогда не полагайтесь на то, что порядок значений словаря не изменится при следующем запуске программы.** Таким образом, вы всегда должны считать, что все вышеуказанные примеры перебора словарей в цикле for или все списки, создаваемые с помощью методов `.keys()` и `.values()` имеют случайный порядок."
   ]
  },
  {
   "cell_type": "markdown",
   "id": "7e728cb0",
   "metadata": {},
   "source": [
    "## Функции"
   ]
  },
  {
   "cell_type": "markdown",
   "id": "03719033",
   "metadata": {},
   "source": [
    "Часто бывает удобно один раз написать логически завершённый блок кода и при необходимости запускать его, а не копировать многократно."
   ]
  },
  {
   "cell_type": "markdown",
   "id": "45c64a84",
   "metadata": {},
   "source": [
    "Оформляется блок функции так:"
   ]
  },
  {
   "cell_type": "code",
   "execution_count": 36,
   "id": "d197d150",
   "metadata": {},
   "outputs": [],
   "source": [
    "def say_hello():\n",
    "    print('Hello!')"
   ]
  },
  {
   "cell_type": "markdown",
   "id": "44fe7f9a",
   "metadata": {},
   "source": [
    "def — ключевое слово (сокр. define)\n",
    "\n",
    "say_hello — название функции,\n",
    "\n",
    "содержимое блока (в данном случае один вызов print()) — со стандартным отступом.\n",
    "\n",
    "После того, как мы определили функцию, мы можем её вызывать:"
   ]
  },
  {
   "cell_type": "code",
   "execution_count": 37,
   "id": "4f85a6a2",
   "metadata": {},
   "outputs": [
    {
     "name": "stdout",
     "output_type": "stream",
     "text": [
      "Hello!\n"
     ]
    }
   ],
   "source": [
    "say_hello()"
   ]
  },
  {
   "cell_type": "markdown",
   "id": "8a60f01d",
   "metadata": {},
   "source": [
    "Функции могут брать параметры на вход, в этом случае они указываются в скобках после названия функции. Параметры - это те же аргументы, только не с точки зрения программиста, который эти аргументы передает, а с точки зрения функции, которая их ожидает."
   ]
  },
  {
   "cell_type": "code",
   "execution_count": 39,
   "id": "c3ac2915",
   "metadata": {},
   "outputs": [],
   "source": [
    "def say_hello(username, age):\n",
    "    if len(username) > 0:\n",
    "        print('Hello, ' + username)\n",
    "    else:\n",
    "        print('No username given...')\n",
    "    if age > 0:\n",
    "        print('age = ' + str(age))"
   ]
  },
  {
   "cell_type": "markdown",
   "id": "4047c428",
   "metadata": {},
   "source": [
    "Имена переменных, объявленные внутри функции, не будут видны в остальной программе. x в функции и x в остальной программе - это разные переменные.\n",
    "\n",
    "Функции также могут возвращать результат выполненных операций с помощью оператора return:"
   ]
  },
  {
   "cell_type": "code",
   "execution_count": 43,
   "id": "f57225e7",
   "metadata": {},
   "outputs": [],
   "source": [
    "def choose_max(a, b):\n",
    "    if a > b:\n",
    "        return a\n",
    "    else:\n",
    "        return b"
   ]
  },
  {
   "cell_type": "markdown",
   "id": "4b0b0f6e",
   "metadata": {},
   "source": [
    "Найдём максимальное из двух чисел:"
   ]
  },
  {
   "cell_type": "code",
   "execution_count": 44,
   "id": "418d547a",
   "metadata": {},
   "outputs": [
    {
     "name": "stdout",
     "output_type": "stream",
     "text": [
      "14\n"
     ]
    }
   ],
   "source": [
    "max_five_three = choose_max(5, 3)\n",
    "\n",
    "print(choose_max(13, 14))"
   ]
  },
  {
   "cell_type": "markdown",
   "id": "5b262839",
   "metadata": {},
   "source": [
    "return прекращает выполнения функции, так что помещать её внутрь цикла — плохая идея."
   ]
  },
  {
   "cell_type": "markdown",
   "id": "2205cf25",
   "metadata": {},
   "source": [
    "В практике написания кода на питоне принято, чтобы сначала определялись все функции, а потом последовательно вызывались внутри одной - главной - функции, которую обычно называют main()."
   ]
  },
  {
   "cell_type": "markdown",
   "id": "339f6c70",
   "metadata": {},
   "source": [
    "Воплощение этого принципа - код ниже. Сначала вы можете его где-нибудь увидеть, поэтому не пугайтесь. А потом вы начнете его использовать сами.\n",
    "\n",
    "```python\n",
    "if __name__ == '__main__':\n",
    "    main()\n",
    "```"
   ]
  },
  {
   "cell_type": "markdown",
   "id": "e5c113d6",
   "metadata": {},
   "source": [
    "## Задания Свэн"
   ]
  },
  {
   "cell_type": "markdown",
   "id": "5c2278d1",
   "metadata": {},
   "source": [
    "## Задание Свэн-1\n",
    "\n",
    "Ниже приведен список городов. Нужно составить словарь, в котором ключами будут названия городов, а значениями - количество раз, которое каждый город встречается в списке. Используйте циклы и условия.\n",
    "\n",
    "```python\n",
    "['Калининград', 'Вологда', 'Киров', 'Орел', 'Самара', 'Тольятти', 'Новосибирск', 'Таганрог', 'Чита', 'Уфа', 'Челябинск', 'Омск', 'Томск', 'Хабаровск', 'Петропавловск-Камчатский', 'Вологда', 'Киров', 'Орел', 'Томск', 'Хабаровск', 'Петропавловск-Камчатский', 'Калининград', 'Вологда', 'Киров', 'Орел', 'Новосибирск', 'Новосибирск', 'Петропавловск-Камчатский', 'Вологда', 'Киров', 'Орел', 'Томск', 'Хабаровск', 'Петропавловск-Камчатский', 'Киров', 'Орел', 'Самара', 'Тольятти', 'Вологда', 'Киров', 'Орел', 'Самара', 'Тольятти', 'Новосибирск', 'Таганрог', 'Чита', 'Уфа', 'Челябинск', 'Омск', 'Томск', 'Омск', 'Томск', 'Хабаровск', 'Петропавловск-Камчатский', 'Вологда', 'Киров', 'Орел', 'Томск', 'Хабаровск']\n",
    "```"
   ]
  },
  {
   "cell_type": "markdown",
   "id": "73552e78",
   "metadata": {},
   "source": [
    "## Задание Свэн-2\n",
    "\n",
    "Напишите функцию, которая будет принимать от пользователя номер работы участника Чтений Вернадского от 240001 до 240013 и печатать имя этого участника. Словарь с номерами работ и именами - ниже.\n",
    "\n",
    "Подсказка по грамотному оформлению: в качестве параметра использовать полученный от пользователя запрос, фамилию возвращать в результате работы функции через `return`, а `input()` и `print()` вывести за пределы функции.\n",
    "\n",
    "```python\n",
    "{240001: 'Петров',\n",
    "240002: 'Васечкин',\n",
    "240003: 'Скабейников',\n",
    "240004: 'Ивашина',\n",
    "240005: 'Сидорова',\n",
    "240006: 'Коровин',\n",
    "240007: 'Степанова',\n",
    "240008: 'Тамарагельдиев',\n",
    "240009: 'Забанин',\n",
    "240010: 'Шатров',\n",
    "240011: 'Семечков',\n",
    "240012: 'Васильков',\n",
    "240013: 'Пан',}\n",
    "```"
   ]
  },
  {
   "cell_type": "markdown",
   "id": "9b511747",
   "metadata": {},
   "source": [
    "## Задание Свэн-3\n",
    "\n",
    "Ниже даны два списка, в которых в одинаковом порядке перечислены продукты и цены на них. Составьте список, в котором ключами будут названия продуктов, а значениями - их цены.\n",
    "\n",
    "```python\n",
    "groceries_list = ['колбаса', 'хлеб', 'шоколад', 'молоко', 'яйца', 'масло', 'чай', 'картошка', 'помидоры', 'сок', 'перец', 'крабовые палочки', 'курица', 'сыр', 'рис', 'макароны', 'кетчуп', 'сосиски']\n",
    "\n",
    "prices_list = ['310', '51', '179', '115', '78', '123', '146', '59', '310', '195', '69', '237', '192', '279', '92', '79', '163', '519']\n",
    "```"
   ]
  },
  {
   "cell_type": "markdown",
   "id": "9998ffda",
   "metadata": {},
   "source": [
    "## Задание Свэн-4\n",
    "\n",
    "У Васи есть список покупок. Для удобства он сразу дан в виде словаря ниже: ключи - названия продуктов, значения - количество, которое нужно купить. Напишите функцию, которая на вход примет этот словарь и вернет сумму, которую Васе нужно взять с собой.\n",
    "\n",
    "```python\n",
    "shopping_list = {'колбаса': 1,\n",
    "                'молоко': 3,\n",
    "                'яйца': 2,\n",
    "                'картошка': 2,\n",
    "                'хлеб': 3,\n",
    "                'макароны': 5}\n",
    "```"
   ]
  },
  {
   "cell_type": "markdown",
   "id": "69957d97",
   "metadata": {},
   "source": [
    "Если задач не хватило, скажите."
   ]
  }
 ],
 "metadata": {
  "kernelspec": {
   "display_name": "Python 3 (ipykernel)",
   "language": "python",
   "name": "python3"
  },
  "language_info": {
   "codemirror_mode": {
    "name": "ipython",
    "version": 3
   },
   "file_extension": ".py",
   "mimetype": "text/x-python",
   "name": "python",
   "nbconvert_exporter": "python",
   "pygments_lexer": "ipython3",
   "version": "3.8.10"
  }
 },
 "nbformat": 4,
 "nbformat_minor": 5
}
