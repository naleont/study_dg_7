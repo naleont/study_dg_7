{
 "cells": [
  {
   "cell_type": "markdown",
   "id": "dd60e4c6-f7a5-400f-a178-ef88a64a775d",
   "metadata": {
    "tags": []
   },
   "source": [
    "# Обобщение уроков 1 - 4"
   ]
  },
  {
   "cell_type": "markdown",
   "id": "4eb8cb6e-8b68-4827-bfb9-f3db450d641b",
   "metadata": {
    "tags": []
   },
   "source": [
    "## input(), print()"
   ]
  },
  {
   "cell_type": "markdown",
   "id": "ba99e7f2-0700-422f-8659-c1ec03aee4e9",
   "metadata": {},
   "source": [
    "Получим от пользователя строку и напечатаем ее"
   ]
  },
  {
   "cell_type": "code",
   "execution_count": 1,
   "id": "1149c009-d2b7-4c1c-aab6-c84bd191b743",
   "metadata": {
    "tags": []
   },
   "outputs": [
    {
     "name": "stdout",
     "output_type": "stream",
     "text": [
      "Что нужно напечатать?что-нибудь\n",
      "что-нибудь\n"
     ]
    }
   ],
   "source": [
    "a = input('Что нужно напечатать?')\n",
    "print(a)"
   ]
  },
  {
   "cell_type": "markdown",
   "id": "caa3eb95-d459-47dd-b7da-6519fa12cd0c",
   "metadata": {
    "tags": []
   },
   "source": [
    "## Выполнение математических операций"
   ]
  },
  {
   "cell_type": "markdown",
   "id": "1930e8a3-c208-4cce-942d-c07efc96955e",
   "metadata": {
    "tags": []
   },
   "source": [
    "Получим от пользователя два числа и сложим их"
   ]
  },
  {
   "cell_type": "code",
   "execution_count": 2,
   "id": "0586ab75-f7e6-4889-9d39-cc62bbefc02a",
   "metadata": {
    "tags": []
   },
   "outputs": [
    {
     "name": "stdout",
     "output_type": "stream",
     "text": [
      "Введите число 4\n",
      "Введите еще число 8\n"
     ]
    },
    {
     "data": {
      "text/plain": [
       "12"
      ]
     },
     "execution_count": 2,
     "metadata": {},
     "output_type": "execute_result"
    }
   ],
   "source": [
    "first = int(input('Введите число '))\n",
    "second = int(input('Введите еще число '))\n",
    "first + second"
   ]
  },
  {
   "cell_type": "markdown",
   "id": "c01e74ff-6514-47d6-beeb-e92794c9f0db",
   "metadata": {
    "tags": []
   },
   "source": [
    "То же самое, только вычтем одно из другого"
   ]
  },
  {
   "cell_type": "code",
   "execution_count": 3,
   "id": "8f1b0649-6c38-48bd-9a93-e725c62dfdae",
   "metadata": {
    "tags": []
   },
   "outputs": [
    {
     "name": "stdout",
     "output_type": "stream",
     "text": [
      "Введите число 27\n",
      "Введите еще число 12\n"
     ]
    },
    {
     "data": {
      "text/plain": [
       "15"
      ]
     },
     "execution_count": 3,
     "metadata": {},
     "output_type": "execute_result"
    }
   ],
   "source": [
    "first = int(input('Введите число '))\n",
    "second = int(input('Введите еще число '))\n",
    "first - second"
   ]
  },
  {
   "cell_type": "markdown",
   "id": "38fe3dd8-4ef2-474c-adb3-9f0ef78a9a01",
   "metadata": {
    "tags": []
   },
   "source": [
    "То же самое, только перемножим"
   ]
  },
  {
   "cell_type": "code",
   "execution_count": 4,
   "id": "e92f0842-5d92-4354-9afa-add2825c8649",
   "metadata": {
    "tags": []
   },
   "outputs": [
    {
     "name": "stdout",
     "output_type": "stream",
     "text": [
      "Введите число 7\n",
      "Введите еще число 4\n"
     ]
    },
    {
     "data": {
      "text/plain": [
       "28"
      ]
     },
     "execution_count": 4,
     "metadata": {},
     "output_type": "execute_result"
    }
   ],
   "source": [
    "first = int(input('Введите число '))\n",
    "second = int(input('Введите еще число '))\n",
    "first * second"
   ]
  },
  {
   "cell_type": "markdown",
   "id": "a6832759-ebd7-47ad-bcd1-8af5fd51e057",
   "metadata": {},
   "source": [
    "То же самое, только поделим одно на другое"
   ]
  },
  {
   "cell_type": "code",
   "execution_count": 5,
   "id": "27b24fcc-2387-42f3-b3a0-cff4bde234e4",
   "metadata": {},
   "outputs": [
    {
     "name": "stdout",
     "output_type": "stream",
     "text": [
      "Введите число 45\n",
      "Введите еще число 5\n"
     ]
    },
    {
     "data": {
      "text/plain": [
       "9.0"
      ]
     },
     "execution_count": 5,
     "metadata": {},
     "output_type": "execute_result"
    }
   ],
   "source": [
    "first = int(input('Введите число '))\n",
    "second = int(input('Введите еще число '))\n",
    "first / second"
   ]
  },
  {
   "cell_type": "markdown",
   "id": "545f7a23-b082-4e64-8d26-e9b2ddfeb6d2",
   "metadata": {},
   "source": [
    "Получим целочисленную часть от деления"
   ]
  },
  {
   "cell_type": "code",
   "execution_count": 6,
   "id": "e62757b6-78ec-49bd-819d-e4e715c1fc60",
   "metadata": {
    "tags": []
   },
   "outputs": [
    {
     "name": "stdout",
     "output_type": "stream",
     "text": [
      "Введите число 47\n",
      "Введите еще число 5\n"
     ]
    },
    {
     "data": {
      "text/plain": [
       "9"
      ]
     },
     "execution_count": 6,
     "metadata": {},
     "output_type": "execute_result"
    }
   ],
   "source": [
    "first = int(input('Введите число '))\n",
    "second = int(input('Введите еще число '))\n",
    "first // second"
   ]
  },
  {
   "cell_type": "markdown",
   "id": "09b7c367-162e-454b-aa72-e0bd510871b8",
   "metadata": {},
   "source": [
    "Получим остаток от деления"
   ]
  },
  {
   "cell_type": "code",
   "execution_count": 7,
   "id": "bd263d14-1a7a-4feb-a427-4a3277bb025c",
   "metadata": {
    "tags": []
   },
   "outputs": [
    {
     "name": "stdout",
     "output_type": "stream",
     "text": [
      "Введите число 47\n",
      "Введите еще число 5\n"
     ]
    },
    {
     "data": {
      "text/plain": [
       "2"
      ]
     },
     "execution_count": 7,
     "metadata": {},
     "output_type": "execute_result"
    }
   ],
   "source": [
    "first = int(input('Введите число '))\n",
    "second = int(input('Введите еще число '))\n",
    "first % second"
   ]
  },
  {
   "cell_type": "markdown",
   "id": "5438afcd-79e7-434e-ad23-fbe38f953704",
   "metadata": {},
   "source": [
    "Возведем первое число в степень - второе число"
   ]
  },
  {
   "cell_type": "code",
   "execution_count": 8,
   "id": "c7b5dcb4-da2a-4acd-82e9-293abc2cc9c3",
   "metadata": {
    "tags": []
   },
   "outputs": [
    {
     "name": "stdout",
     "output_type": "stream",
     "text": [
      "Введите число 2\n",
      "Введите еще число 5\n"
     ]
    },
    {
     "data": {
      "text/plain": [
       "32"
      ]
     },
     "execution_count": 8,
     "metadata": {},
     "output_type": "execute_result"
    }
   ],
   "source": [
    "first = int(input('Введите число '))\n",
    "second = int(input('Введите еще число '))\n",
    "first ** second"
   ]
  },
  {
   "cell_type": "markdown",
   "id": "92b72335-32ce-4572-b108-0506785b21ff",
   "metadata": {},
   "source": [
    "## Типы данных (int, str, float), преобразование типов данных"
   ]
  },
  {
   "cell_type": "markdown",
   "id": "a79da55c-b32e-4c1a-85ac-ff5e2f8d82eb",
   "metadata": {},
   "source": [
    "type() выводит тип данных, переданных функции в качестве аргумента."
   ]
  },
  {
   "cell_type": "code",
   "execution_count": 9,
   "id": "b0653e14-ce7e-4cc1-8a46-c0433284f1db",
   "metadata": {
    "tags": []
   },
   "outputs": [
    {
     "data": {
      "text/plain": [
       "str"
      ]
     },
     "execution_count": 9,
     "metadata": {},
     "output_type": "execute_result"
    }
   ],
   "source": [
    "type('hello')"
   ]
  },
  {
   "cell_type": "code",
   "execution_count": 10,
   "id": "9657bf9c-c3d9-4f77-9372-3fa5e001e8be",
   "metadata": {
    "tags": []
   },
   "outputs": [
    {
     "data": {
      "text/plain": [
       "int"
      ]
     },
     "execution_count": 10,
     "metadata": {},
     "output_type": "execute_result"
    }
   ],
   "source": [
    "type(3)"
   ]
  },
  {
   "cell_type": "code",
   "execution_count": 11,
   "id": "5b6d055c-af53-496a-9163-bafdcd9b307d",
   "metadata": {
    "tags": []
   },
   "outputs": [
    {
     "data": {
      "text/plain": [
       "float"
      ]
     },
     "execution_count": 11,
     "metadata": {},
     "output_type": "execute_result"
    }
   ],
   "source": [
    "type(15.3)"
   ]
  },
  {
   "cell_type": "markdown",
   "id": "fc658e47-8e62-4a0d-9b73-3ee3849f4f84",
   "metadata": {},
   "source": [
    "Данные, полученные через input() - всегда строка. Поэтому проделать математические операции с ними либо не получится, либо результат будет не таким, как мы ожидаем. Для решения проблемы мы отдельной командой преобразуем данные в число: int() - в целое, float() - в десятичное."
   ]
  },
  {
   "cell_type": "code",
   "execution_count": 12,
   "id": "515e8d1d-40a7-429c-8116-dbaa826a2c97",
   "metadata": {
    "tags": []
   },
   "outputs": [
    {
     "name": "stdout",
     "output_type": "stream",
     "text": [
      "3\n"
     ]
    },
    {
     "data": {
      "text/plain": [
       "str"
      ]
     },
     "execution_count": 12,
     "metadata": {},
     "output_type": "execute_result"
    }
   ],
   "source": [
    "a = input()\n",
    "type(a)"
   ]
  },
  {
   "cell_type": "code",
   "execution_count": 13,
   "id": "8d6baf10-82ec-497d-ba3d-46977f2625c6",
   "metadata": {
    "tags": []
   },
   "outputs": [
    {
     "data": {
      "text/plain": [
       "'33'"
      ]
     },
     "execution_count": 13,
     "metadata": {},
     "output_type": "execute_result"
    }
   ],
   "source": [
    "a * 2"
   ]
  },
  {
   "cell_type": "code",
   "execution_count": 14,
   "id": "9502fcdb-0ec2-4902-8ffa-a9a4006b2ccd",
   "metadata": {
    "tags": []
   },
   "outputs": [
    {
     "name": "stdout",
     "output_type": "stream",
     "text": [
      "3\n"
     ]
    },
    {
     "data": {
      "text/plain": [
       "int"
      ]
     },
     "execution_count": 14,
     "metadata": {},
     "output_type": "execute_result"
    }
   ],
   "source": [
    "a = input()\n",
    "a = int(a)\n",
    "type(a)"
   ]
  },
  {
   "cell_type": "markdown",
   "id": "5d0f991f-d61c-4114-b714-5d7a9335122a",
   "metadata": {},
   "source": [
    "Или короче"
   ]
  },
  {
   "cell_type": "code",
   "execution_count": 15,
   "id": "6c62fd49-7768-4beb-a9d0-252ddc9c6f30",
   "metadata": {
    "tags": []
   },
   "outputs": [
    {
     "name": "stdout",
     "output_type": "stream",
     "text": [
      "3\n"
     ]
    },
    {
     "data": {
      "text/plain": [
       "int"
      ]
     },
     "execution_count": 15,
     "metadata": {},
     "output_type": "execute_result"
    }
   ],
   "source": [
    "a = int(input())\n",
    "type(a)"
   ]
  },
  {
   "cell_type": "markdown",
   "id": "48cda588-0409-4d77-8b10-9a7bac05e5d3",
   "metadata": {},
   "source": [
    "Результат деления - всегда десятичное число. Даже если десятичная часть этого числа - .0"
   ]
  },
  {
   "cell_type": "code",
   "execution_count": 16,
   "id": "b577bfb5-191a-4009-a3a9-16b2c984264b",
   "metadata": {
    "tags": []
   },
   "outputs": [
    {
     "name": "stdout",
     "output_type": "stream",
     "text": [
      "Введите число 36\n",
      "Введите еще число 9\n"
     ]
    },
    {
     "data": {
      "text/plain": [
       "4.0"
      ]
     },
     "execution_count": 16,
     "metadata": {},
     "output_type": "execute_result"
    }
   ],
   "source": [
    "first = int(input('Введите число '))\n",
    "second = int(input('Введите еще число '))\n",
    "first / second"
   ]
  },
  {
   "cell_type": "markdown",
   "id": "8a717972-3e69-4f0b-b4a4-15d669d0ff8b",
   "metadata": {},
   "source": [
    "Приведем результат деления к целому числу"
   ]
  },
  {
   "cell_type": "code",
   "execution_count": 17,
   "id": "5443f2d6-c7be-4059-997b-c50f3d46869f",
   "metadata": {
    "tags": []
   },
   "outputs": [
    {
     "name": "stdout",
     "output_type": "stream",
     "text": [
      "Введите число 36\n",
      "Введите еще число 9\n"
     ]
    },
    {
     "data": {
      "text/plain": [
       "4"
      ]
     },
     "execution_count": 17,
     "metadata": {},
     "output_type": "execute_result"
    }
   ],
   "source": [
    "first = int(input('Введите число '))\n",
    "second = int(input('Введите еще число '))\n",
    "int(first / second)"
   ]
  },
  {
   "cell_type": "markdown",
   "id": "4d2c8f2e-204a-47a2-87df-46075ca072d4",
   "metadata": {},
   "source": [
    "А можем сделать из дроби целое"
   ]
  },
  {
   "cell_type": "code",
   "execution_count": 18,
   "id": "3cd4c565-0761-4283-a747-fb5bf8cb1314",
   "metadata": {
    "tags": []
   },
   "outputs": [
    {
     "data": {
      "text/plain": [
       "5.0"
      ]
     },
     "execution_count": 18,
     "metadata": {},
     "output_type": "execute_result"
    }
   ],
   "source": [
    "number = 5\n",
    "float(5)"
   ]
  },
  {
   "cell_type": "markdown",
   "id": "7b500d87-7d8b-4295-9f31-d108a657d93d",
   "metadata": {
    "tags": []
   },
   "source": [
    "Строки мы можем складывать друг с другом, тогда они объединятся (действие называется *конкатенация*)."
   ]
  },
  {
   "cell_type": "code",
   "execution_count": 19,
   "id": "cbdc1d72-a6a1-4059-8225-37dd79e68b35",
   "metadata": {
    "tags": []
   },
   "outputs": [
    {
     "data": {
      "text/plain": [
       "'стратосфера'"
      ]
     },
     "execution_count": 19,
     "metadata": {},
     "output_type": "execute_result"
    }
   ],
   "source": [
    "'страто' + 'сфера'"
   ]
  },
  {
   "cell_type": "markdown",
   "id": "f28304f7-9843-4c9f-bd7e-94b4321169e6",
   "metadata": {},
   "source": [
    "Можем умножить строку на число, чтобы получить нужное количество повторений"
   ]
  },
  {
   "cell_type": "code",
   "execution_count": 20,
   "id": "576c5030-f050-45e9-94e7-464dee295e9b",
   "metadata": {
    "tags": []
   },
   "outputs": [
    {
     "data": {
      "text/plain": [
       "'тритритритритритритри'"
      ]
     },
     "execution_count": 20,
     "metadata": {},
     "output_type": "execute_result"
    }
   ],
   "source": [
    "'три' * 7"
   ]
  },
  {
   "cell_type": "markdown",
   "id": "c5e83636-04f1-489c-afac-762a79cabe29",
   "metadata": {},
   "source": [
    "А вот сложить число со строкой не можем."
   ]
  },
  {
   "cell_type": "code",
   "execution_count": 21,
   "id": "55cfc8b4-32b8-4277-8968-881e53c792d3",
   "metadata": {
    "tags": []
   },
   "outputs": [
    {
     "ename": "TypeError",
     "evalue": "unsupported operand type(s) for +: 'int' and 'str'",
     "output_type": "error",
     "traceback": [
      "\u001b[0;31m---------------------------------------------------------------------------\u001b[0m",
      "\u001b[0;31mTypeError\u001b[0m                                 Traceback (most recent call last)",
      "Cell \u001b[0;32mIn[21], line 1\u001b[0m\n\u001b[0;32m----> 1\u001b[0m \u001b[38;5;241;43m10\u001b[39;49m\u001b[43m \u001b[49m\u001b[38;5;241;43m+\u001b[39;49m\u001b[43m \u001b[49m\u001b[38;5;124;43m'\u001b[39;49m\u001b[38;5;124;43mнегритят\u001b[39;49m\u001b[38;5;124;43m'\u001b[39;49m\n",
      "\u001b[0;31mTypeError\u001b[0m: unsupported operand type(s) for +: 'int' and 'str'"
     ]
    }
   ],
   "source": [
    "10 + 'негритят'"
   ]
  },
  {
   "cell_type": "markdown",
   "id": "551ec997-81ab-400c-9952-2c6390127b81",
   "metadata": {},
   "source": [
    "Такая строка выводит ошибку:\n",
    "\n",
    "TypeError: can only concatenate str (not \"int\") to str\\\n",
    "или\\\n",
    "TypeError: unsupported operand type(s) for +: 'int' and 'str'\n",
    "\n",
    "Читаем, что написано: Ошибка типа: можно производить конкатенацию только строки (не числа) со строкой. Или неподдерживаемый тип операнда для \"+\": число и строка. Операнд - это то, с чем проводится операция.\n",
    "\n",
    "Какая именно ошибка - зависит от того, какой тип данных идет первым в строке. Если первая - строка, программа будет читать \"+\" как конкатенацию и будет говорить о том, что ей не удалось произвести конкатенацию. Если первое - число, то \"+\" будет прочтен как сложение. \n",
    "\n",
    "А еще в ошибке написано, где в коде она произошла. Здесь - ячейка и строка, в IDLE - строка и номер знака. И выводится сама строка."
   ]
  },
  {
   "cell_type": "markdown",
   "id": "14f43f7c-fc02-49d9-b87b-40e8388c4756",
   "metadata": {
    "tags": []
   },
   "source": [
    "Читайте текст ошибок, которые выводит ваша программа. Как правило, в них достаточно четко написано, почему программа не работает. А вот как это исправить - уже нужно подумать."
   ]
  },
  {
   "cell_type": "markdown",
   "id": "db149218-574d-4f71-a622-0fd04f527e02",
   "metadata": {},
   "source": [
    "Вернемся к сложению строки и числа. Бывает, что мы получили результат вычислений, и нам нужно включить его в предложение. Для этого придется сделать из числа строку."
   ]
  },
  {
   "cell_type": "code",
   "execution_count": 22,
   "id": "ce151ec3-70de-4099-8ea4-158a4bea9e7d",
   "metadata": {
    "tags": []
   },
   "outputs": [
    {
     "data": {
      "text/plain": [
       "'10 негритят'"
      ]
     },
     "execution_count": 22,
     "metadata": {},
     "output_type": "execute_result"
    }
   ],
   "source": [
    "str(10) + ' негритят'"
   ]
  },
  {
   "cell_type": "markdown",
   "id": "e9839748-51a8-4cf6-829f-493d77a1f3a3",
   "metadata": {
    "tags": []
   },
   "source": [
    "## Работа со строковыми данными"
   ]
  },
  {
   "cell_type": "markdown",
   "id": "8387c67d-fa78-4ffd-8da9-740aa2c987c5",
   "metadata": {},
   "source": [
    "О конкатенации уже поговорили. Еще мы уже умеем считать длину строки."
   ]
  },
  {
   "cell_type": "code",
   "execution_count": 23,
   "id": "401b4825-8692-47eb-828e-1b40c6818009",
   "metadata": {
    "tags": []
   },
   "outputs": [
    {
     "data": {
      "text/plain": [
       "2"
      ]
     },
     "execution_count": 23,
     "metadata": {},
     "output_type": "execute_result"
    }
   ],
   "source": [
    "len('hi')"
   ]
  },
  {
   "cell_type": "code",
   "execution_count": 24,
   "id": "829875c6-7651-4228-b9d0-c9afb505c593",
   "metadata": {
    "tags": []
   },
   "outputs": [
    {
     "data": {
      "text/plain": [
       "5"
      ]
     },
     "execution_count": 24,
     "metadata": {},
     "output_type": "execute_result"
    }
   ],
   "source": [
    "len('hello')"
   ]
  },
  {
   "cell_type": "code",
   "execution_count": 25,
   "id": "db9384cb-0336-4357-96a1-b96d0b3cd53c",
   "metadata": {
    "tags": []
   },
   "outputs": [
    {
     "data": {
      "text/plain": [
       "6"
      ]
     },
     "execution_count": 25,
     "metadata": {},
     "output_type": "execute_result"
    }
   ],
   "source": [
    "line = 'привет'\n",
    "len(line)"
   ]
  },
  {
   "cell_type": "markdown",
   "id": "c0ea81c7-74af-4bde-80b1-8bb3867a4ea6",
   "metadata": {},
   "source": [
    "Мы умеем перебирать строку по символам и получать символ по его индексу (то есть порядковому номеру)."
   ]
  },
  {
   "cell_type": "markdown",
   "id": "3f7f30e0-a938-4c79-8306-471a67d2eaf3",
   "metadata": {},
   "source": [
    "**Счет в Python начинается с 0**"
   ]
  },
  {
   "cell_type": "code",
   "execution_count": 26,
   "id": "1a973885-0619-4fe7-ac6b-8da8f37c8916",
   "metadata": {
    "tags": []
   },
   "outputs": [
    {
     "data": {
      "text/plain": [
       "'h'"
      ]
     },
     "execution_count": 26,
     "metadata": {},
     "output_type": "execute_result"
    }
   ],
   "source": [
    "'hello'[0]"
   ]
  },
  {
   "cell_type": "code",
   "execution_count": 27,
   "id": "3f30fd15-a5ce-4879-9a54-2ac4c55646ca",
   "metadata": {
    "tags": []
   },
   "outputs": [
    {
     "data": {
      "text/plain": [
       "'e'"
      ]
     },
     "execution_count": 27,
     "metadata": {},
     "output_type": "execute_result"
    }
   ],
   "source": [
    "'hello'[1]"
   ]
  },
  {
   "cell_type": "markdown",
   "id": "c2400c9e-c297-427c-bb95-5e793e97045f",
   "metadata": {},
   "source": [
    "А еще умеем перебирать строку не с начала, а с конца. Для этого нужны отрицательные индексы. Последний символ строки имеет индекс `-1`."
   ]
  },
  {
   "cell_type": "code",
   "execution_count": 28,
   "id": "7b45a842-6864-4960-9323-b886c73694ff",
   "metadata": {
    "tags": []
   },
   "outputs": [
    {
     "data": {
      "text/plain": [
       "'e'"
      ]
     },
     "execution_count": 28,
     "metadata": {},
     "output_type": "execute_result"
    }
   ],
   "source": [
    "'lunchtime'[-1]"
   ]
  },
  {
   "cell_type": "code",
   "execution_count": 29,
   "id": "91154f3e-4ac5-4663-9147-6816eab19bab",
   "metadata": {
    "tags": []
   },
   "outputs": [
    {
     "data": {
      "text/plain": [
       "'m'"
      ]
     },
     "execution_count": 29,
     "metadata": {},
     "output_type": "execute_result"
    }
   ],
   "source": [
    "'lunchtime'[-2]"
   ]
  },
  {
   "cell_type": "markdown",
   "id": "aae90a58-72f9-40e3-88a1-d0e2faac3255",
   "metadata": {},
   "source": [
    "А еще мы знаем, по какому принципу строки сравниваются между собой: сравниваются не сами символы, а их позиции в [таблице симоволов Unicode](https://symbl.cc/ru/unicode-table/)."
   ]
  },
  {
   "cell_type": "code",
   "execution_count": 30,
   "id": "b99d26da-572e-4acb-8df1-0b5477b06c38",
   "metadata": {
    "tags": []
   },
   "outputs": [
    {
     "data": {
      "text/plain": [
       "True"
      ]
     },
     "execution_count": 30,
     "metadata": {},
     "output_type": "execute_result"
    }
   ],
   "source": [
    "'а' < 'б'"
   ]
  },
  {
   "cell_type": "code",
   "execution_count": 31,
   "id": "66931dff-32cd-455c-a2c8-69205420bc04",
   "metadata": {
    "tags": []
   },
   "outputs": [
    {
     "data": {
      "text/plain": [
       "False"
      ]
     },
     "execution_count": 31,
     "metadata": {},
     "output_type": "execute_result"
    }
   ],
   "source": [
    "'а' < 'Б'"
   ]
  },
  {
   "cell_type": "code",
   "execution_count": 32,
   "id": "a55358df-b1db-4d0d-a636-602431e7e471",
   "metadata": {
    "tags": []
   },
   "outputs": [
    {
     "data": {
      "text/plain": [
       "False"
      ]
     },
     "execution_count": 32,
     "metadata": {},
     "output_type": "execute_result"
    }
   ],
   "source": [
    "'баран' < 'акведук'"
   ]
  },
  {
   "cell_type": "markdown",
   "id": "58c4403e-d49c-41dd-8494-d936dccf995b",
   "metadata": {},
   "source": [
    "## if, elif, else"
   ]
  },
  {
   "cell_type": "markdown",
   "id": "3fcbdab0",
   "metadata": {},
   "source": [
    "Если нам нужно что-то проверить, используем if."
   ]
  },
  {
   "cell_type": "markdown",
   "id": "85c4cdfa",
   "metadata": {},
   "source": [
    "Помним про синтаксис: **После if пишется условие, затем ставится двоеточие, а со следующей строки с отступом пишется код, который должен быть выполнен в случае, если условие истинно.**"
   ]
  },
  {
   "cell_type": "code",
   "execution_count": 33,
   "id": "60e5a904",
   "metadata": {},
   "outputs": [
    {
     "name": "stdout",
     "output_type": "stream",
     "text": [
      "Какое сейчас время суток? утро\n",
      "иди в школу\n"
     ]
    }
   ],
   "source": [
    "daytime = input('Какое сейчас время суток? ')\n",
    "\n",
    "if daytime == 'утро':\n",
    "    print('иди в школу')"
   ]
  },
  {
   "cell_type": "markdown",
   "id": "5a25bc5b",
   "metadata": {},
   "source": [
    "Еще помним, как обозначаются операторы сравнения:\n",
    "* \\> - больше\n",
    "* \\>= - больше или равно\n",
    "* \\< - меньше\n",
    "* \\<= - меньше или равно\n",
    "* == - равно\n",
    "* != - не равно"
   ]
  },
  {
   "cell_type": "markdown",
   "id": "c7f5e8ff",
   "metadata": {},
   "source": [
    "Мы проверяем одно условие. Для всего остального есть `else`. Этот оператор говорит программе, что делать во всех остальных случаев. Кроме того, про который мы программе уже рассказали в `if`."
   ]
  },
  {
   "cell_type": "code",
   "execution_count": 34,
   "id": "f3fffd8c",
   "metadata": {},
   "outputs": [
    {
     "name": "stdout",
     "output_type": "stream",
     "text": [
      "Какое сейчас время суток? ночь\n",
      "спи\n"
     ]
    }
   ],
   "source": [
    "daytime = input('Какое сейчас время суток? ')\n",
    "\n",
    "if daytime == 'утро':\n",
    "    print('иди в школу')\n",
    "else:\n",
    "    print('спи')"
   ]
  },
  {
   "cell_type": "markdown",
   "id": "6f5e76a4",
   "metadata": {},
   "source": [
    "Мы сказали программе: если тебе сказали \"утро\", напиши \"иди в школу\". Во всех остальных случаях напиши \"спи\"."
   ]
  },
  {
   "cell_type": "markdown",
   "id": "34a195cb",
   "metadata": {},
   "source": [
    "Если наше условие не выполнилось, и в таком случае нам нужно проверить что-нибудь еще, используем `elif` - склейку из `else` и `if`."
   ]
  },
  {
   "cell_type": "code",
   "execution_count": 35,
   "id": "856b280a",
   "metadata": {},
   "outputs": [
    {
     "name": "stdout",
     "output_type": "stream",
     "text": [
      "Какое сейчас время суток? день\n",
      "учись!\n"
     ]
    }
   ],
   "source": [
    "daytime = input('Какое сейчас время суток? ')\n",
    "\n",
    "if daytime == 'утро':\n",
    "    print('иди в школу')\n",
    "elif daytime == 'день':\n",
    "    print('учись!')\n",
    "else:\n",
    "    print('спи')"
   ]
  },
  {
   "cell_type": "markdown",
   "id": "9f206240",
   "metadata": {},
   "source": [
    "Внутри одной проверки может быть только один `if` и только один `else`. `elif` должен находиться строго между ними, а вот повторяться может сколько угодно раз."
   ]
  },
  {
   "cell_type": "code",
   "execution_count": 36,
   "id": "a0b7d24c",
   "metadata": {},
   "outputs": [
    {
     "name": "stdout",
     "output_type": "stream",
     "text": [
      "Какое сейчас время суток? вечер\n",
      "иди домой\n"
     ]
    }
   ],
   "source": [
    "daytime = input('Какое сейчас время суток? ')\n",
    "\n",
    "if daytime == 'утро':\n",
    "    print('иди в школу')\n",
    "elif daytime == 'день':\n",
    "    print('учись!')\n",
    "elif daytime == 'вечер':\n",
    "    print('иди домой')\n",
    "else:\n",
    "    print('спи')"
   ]
  },
  {
   "cell_type": "markdown",
   "id": "740a9f44-c86a-4402-b2e0-9828dd20bda6",
   "metadata": {},
   "source": [
    "## and, or"
   ]
  },
  {
   "cell_type": "markdown",
   "id": "143e18e5",
   "metadata": {},
   "source": [
    "И, ИЛИ нужны, чтобы выполнить какое-то действие, когда выполняются все перечисленные условия одновременно (И) или хотя бы одно из перечисленных (ИЛИ)."
   ]
  },
  {
   "cell_type": "code",
   "execution_count": 37,
   "id": "006dc10c",
   "metadata": {},
   "outputs": [
    {
     "name": "stdout",
     "output_type": "stream",
     "text": [
      "Какое сейчас время суток? утро\n",
      "Какой сегодня день недели? вс\n",
      "спи\n"
     ]
    }
   ],
   "source": [
    "daytime = input('Какое сейчас время суток? ')\n",
    "weekday = input('Какой сегодня день недели? ')\n",
    "\n",
    "if daytime == 'утро' and weekday != 'вс':\n",
    "    print('иди в школу')\n",
    "elif daytime == 'день' and weekday != 'вс':\n",
    "    print('учись!')\n",
    "elif daytime == 'вечер':\n",
    "    print('иди домой')\n",
    "else:\n",
    "    print('спи')"
   ]
  },
  {
   "cell_type": "code",
   "execution_count": 38,
   "id": "ea704d50",
   "metadata": {},
   "outputs": [
    {
     "name": "stdout",
     "output_type": "stream",
     "text": [
      "Какой сегодня день недели? вс\n",
      "спи\n"
     ]
    }
   ],
   "source": [
    "weekday = input('Какой сегодня день недели? ')\n",
    "\n",
    "if weekday == 'сб' or weekday == 'вс':\n",
    "    print('спи')\n",
    "else:\n",
    "    print('почему ты спишь?')"
   ]
  },
  {
   "cell_type": "markdown",
   "id": "437e283b",
   "metadata": {},
   "source": [
    "## Вложенность"
   ]
  },
  {
   "cell_type": "markdown",
   "id": "1e84850b",
   "metadata": {},
   "source": [
    "Мы еще об этом не говорили, но еще условные операторы можно вкладывать один в другой. Важно при этом, на каком уровне будет начинаться каждая строка: уровень начала строки помогает программе понять, на каком уровне вложенности она находится."
   ]
  },
  {
   "cell_type": "code",
   "execution_count": 39,
   "id": "1fd394bc",
   "metadata": {},
   "outputs": [
    {
     "name": "stdout",
     "output_type": "stream",
     "text": [
      "Какое сейчас время суток? утро\n",
      "Какой сегодня день недели? вс\n",
      "делай что хочешь, у тебя выходной\n",
      "только не забудь сделать уроки\n"
     ]
    }
   ],
   "source": [
    "daytime = input('Какое сейчас время суток? ')\n",
    "weekday = input('Какой сегодня день недели? ')\n",
    "\n",
    "if weekday != 'сб' and weekday != 'вс':\n",
    "    if daytime == 'утро' and weekday != 'вс':\n",
    "        print('иди в школу')\n",
    "    else:\n",
    "        print('спи')\n",
    "else:\n",
    "    print('делай что хочешь, у тебя выходной')\n",
    "    print('только не забудь сделать уроки')"
   ]
  }
 ],
 "metadata": {
  "kernelspec": {
   "display_name": "Python 3 (ipykernel)",
   "language": "python",
   "name": "python3"
  },
  "language_info": {
   "codemirror_mode": {
    "name": "ipython",
    "version": 3
   },
   "file_extension": ".py",
   "mimetype": "text/x-python",
   "name": "python",
   "nbconvert_exporter": "python",
   "pygments_lexer": "ipython3",
   "version": "3.8.10"
  }
 },
 "nbformat": 4,
 "nbformat_minor": 5
}
